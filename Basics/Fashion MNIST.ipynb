{
 "cells": [
  {
   "cell_type": "code",
   "execution_count": 2,
   "metadata": {},
   "outputs": [],
   "source": [
    "import torch\n",
    "import numpy as np\n",
    "from torchvision import datasets,transforms"
   ]
  },
  {
   "cell_type": "code",
   "execution_count": 3,
   "metadata": {},
   "outputs": [],
   "source": [
    "from torch import nn, optim\n",
    "import torch.nn.functional as F"
   ]
  },
  {
   "cell_type": "code",
   "execution_count": 4,
   "metadata": {},
   "outputs": [],
   "source": [
    "transform = transforms.Compose([transforms.ToTensor(),\n",
    "                               transforms.Normalize((0.5),(0.5))\n",
    "                               ])"
   ]
  },
  {
   "cell_type": "code",
   "execution_count": 5,
   "metadata": {},
   "outputs": [],
   "source": [
    "trainset = datasets.FashionMNIST('~/.pytorch/F_MNIST_data/', download=True, train=True, transform=transform)\n",
    "trainloader = torch.utils.data.DataLoader(trainset, batch_size=64, shuffle=True)\n",
    "\n",
    "# Download and load the test data\n",
    "testset = datasets.FashionMNIST('~/.pytorch/F_MNIST_data/', download=True, train=False, transform=transform)\n",
    "testloader = torch.utils.data.DataLoader(testset, batch_size=64, shuffle=True)"
   ]
  },
  {
   "cell_type": "code",
   "execution_count": null,
   "metadata": {},
   "outputs": [],
   "source": [
    "class classifier(nn.Module):\n",
    "    def __init__(self):\n",
    "        super().__init__()\n",
    "        self.fc1 = nn.Linear(784,256)\n",
    "        self.fc2 = nn.Linear(256,128)\n",
    "        self.fc3 = nn.Linear(128,64)\n",
    "        self.fc4 = nn.Linear(64,10)\n",
    "        \n",
    "    def forward(self,x):\n",
    "        x = x.view(x.shape[0],-1)\n",
    "        x = F.relu(self.fc1(x))\n",
    "        x = F.relu(self.fc2(x))\n",
    "        x = F.relu(self.fc3(x))\n",
    "        x = F.log_softmax(self.fc4(x),dim = 1)\n",
    "        return x"
   ]
  },
  {
   "cell_type": "code",
   "execution_count": null,
   "metadata": {},
   "outputs": [],
   "source": [
    "model = classifier()"
   ]
  },
  {
   "cell_type": "code",
   "execution_count": null,
   "metadata": {},
   "outputs": [],
   "source": [
    "critertion = nn.NLLLoss()\n",
    "optimizer = optim.Adam(model.parameters(),lr = 0.003)"
   ]
  },
  {
   "cell_type": "code",
   "execution_count": null,
   "metadata": {},
   "outputs": [],
   "source": [
    "epochs = 30\n",
    "steps = 0\n",
    "train_losses, test_losses = [],[]\n",
    "\n",
    "for i in range(epochs):\n",
    "    running_loss = 0\n",
    "    for images, labels in trainloader:\n",
    "        out = model(images)\n",
    "        loss = critertion(out, labels)\n",
    "        optimizer.zero_grad()\n",
    "        loss.backward()\n",
    "        optimizer.step()\n",
    "        \n",
    "        running_loss += loss.item()\n",
    "    else:\n",
    "        test_loss = 0\n",
    "        accuracy = 0\n",
    "        with torch.no_grad():\n",
    "            for images, labels in testloader:\n",
    "                test_out = model(images)\n",
    "                test_loss += critertion(test_out,labels)\n",
    "                \n",
    "                ps = torch.exp(test_out)\n",
    "                _,top_class = ps.topk(1,dim =1)\n",
    "                equals = top_class == labels.view(top_class.shape)\n",
    "                accuracy += torch.mean(equals.type(torch.FloatTensor))\n",
    "                \n",
    "        train_losses.append(running_loss/len(trainloader))\n",
    "        test_losses.append(test_loss/len(testloader))\n",
    "        \n",
    "        print(\"Epochs: {}/{}\".format(i+1,epochs),\n",
    "             \"Training loss: {}\".format(running_loss/len(trainloader)),\n",
    "              \"Testing loss: {}\".format(test_loss/len(testloader)),\n",
    "              \"Test Accuracy: {}\".format(accuracy/len(testloader))\n",
    "             )\n",
    "        \n",
    "        \n",
    "        "
   ]
  },
  {
   "cell_type": "code",
   "execution_count": 12,
   "metadata": {},
   "outputs": [],
   "source": [
    "import matplotlib.pyplot as plt"
   ]
  },
  {
   "cell_type": "code",
   "execution_count": 13,
   "metadata": {},
   "outputs": [
    {
     "data": {
      "text/plain": [
       "[<matplotlib.lines.Line2D at 0x7f13e2284438>]"
      ]
     },
     "execution_count": 13,
     "metadata": {},
     "output_type": "execute_result"
    },
    {
     "data": {
      "image/png": "[encoded data removed]",
      "text/plain": [
       "<Figure size 432x288 with 1 Axes>"
      ]
     },
     "metadata": {
      "needs_background": "light"
     },
     "output_type": "display_data"
    }
   ],
   "source": [
    "plt.plot(range(30), train_losses)\n",
    "plt.plot(range(30), test_losses)"
   ]
  },
  {
   "cell_type": "code",
   "execution_count": 6,
   "metadata": {},
   "outputs": [],
   "source": [
    "class Classifier(nn.Module):\n",
    "    def __init__(self):\n",
    "        super().__init__()\n",
    "        self.fc1 = nn.Linear(784,256)\n",
    "        self.fc2 = nn.Linear(256,128)\n",
    "        self.fc3 = nn.Linear(128,64)\n",
    "        self.fc4 = nn.Linear(64,10)\n",
    "        self.dropout = nn.Dropout(0.2)\n",
    "        \n",
    "        \n",
    "    def forward(self,x):\n",
    "        x = x.view(x.shape[0],-1)\n",
    "        x = self.dropout(F.relu(self.fc1(x)))\n",
    "        x = self.dropout(F.relu(self.fc2(x)))\n",
    "        x = self.dropout(F.relu(self.fc3(x)))\n",
    "        \n",
    "        x = F.log_softmax(self.fc4(x), dim = 1)\n",
    "        \n",
    "        return x\n",
    "\n",
    "        "
   ]
  },
  {
   "cell_type": "code",
   "execution_count": 7,
   "metadata": {},
   "outputs": [],
   "source": [
    "model = Classifier()\n"
   ]
  },
  {
   "cell_type": "code",
   "execution_count": 8,
   "metadata": {},
   "outputs": [],
   "source": [
    "critertion = nn.NLLLoss()\n",
    "optimizer = optim.Adam(model.parameters(), lr = 0.003 )"
   ]
  },
  {
   "cell_type": "code",
   "execution_count": 11,
   "metadata": {},
   "outputs": [
    {
     "name": "stdout",
     "output_type": "stream",
     "text": [
      "Epochs: 1/30 Training loss: 0.4833551049232483 Testing loss: 0.4330412745475769 Test Accuracy: 0.8450437784194946\n",
      "Epochs: 2/30 Training loss: 0.4492284059524536 Testing loss: 0.4306095242500305 Test Accuracy: 0.8511146306991577\n",
      "Epochs: 3/30 Training loss: 0.43134599924087524 Testing loss: 0.42349714040756226 Test Accuracy: 0.8436504602432251\n",
      "Epochs: 4/30 Training loss: 0.421158105134964 Testing loss: 0.39364537596702576 Test Accuracy: 0.8539012670516968\n",
      "Epochs: 5/30 Training loss: 0.4082551598548889 Testing loss: 0.39401620626449585 Test Accuracy: 0.8586783409118652\n",
      "Epochs: 6/30 Training loss: 0.4007987976074219 Testing loss: 0.3970181941986084 Test Accuracy: 0.8631568551063538\n",
      "Epochs: 7/30 Training loss: 0.3998246490955353 Testing loss: 0.42044445872306824 Test Accuracy: 0.852707028388977\n",
      "Epochs: 8/30 Training loss: 0.39018383622169495 Testing loss: 0.38192296028137207 Test Accuracy: 0.8596735596656799\n",
      "Epochs: 9/30 Training loss: 0.3920302987098694 Testing loss: 0.3892086148262024 Test Accuracy: 0.8640525341033936\n",
      "Epochs: 10/30 Training loss: 0.3870024085044861 Testing loss: 0.3974246382713318 Test Accuracy: 0.8597730994224548\n",
      "Epochs: 11/30 Training loss: 0.3820396065711975 Testing loss: 0.38416844606399536 Test Accuracy: 0.8645501732826233\n",
      "Epochs: 12/30 Training loss: 0.38328877091407776 Testing loss: 0.39131930470466614 Test Accuracy: 0.8661425113677979\n",
      "Epochs: 13/30 Training loss: 0.37404751777648926 Testing loss: 0.39353668689727783 Test Accuracy: 0.8682324886322021\n",
      "Epochs: 14/30 Training loss: 0.37196964025497437 Testing loss: 0.3766322433948517 Test Accuracy: 0.868630588054657\n",
      "Epochs: 15/30 Training loss: 0.3668103814125061 Testing loss: 0.37657201290130615 Test Accuracy: 0.8707205653190613\n",
      "Epochs: 16/30 Training loss: 0.3744988739490509 Testing loss: 0.3907323479652405 Test Accuracy: 0.8644506335258484\n",
      "Epochs: 17/30 Training loss: 0.361343115568161 Testing loss: 0.37470367550849915 Test Accuracy: 0.8712181448936462\n",
      "Epochs: 18/30 Training loss: 0.363650918006897 Testing loss: 0.4033164083957672 Test Accuracy: 0.8612658977508545\n",
      "Epochs: 19/30 Training loss: 0.36004766821861267 Testing loss: 0.3738039433956146 Test Accuracy: 0.8695262670516968\n",
      "Epochs: 20/30 Training loss: 0.3632856607437134 Testing loss: 0.37819230556488037 Test Accuracy: 0.8713176846504211\n",
      "Epochs: 21/30 Training loss: 0.35556289553642273 Testing loss: 0.3950502574443817 Test Accuracy: 0.8654458522796631\n",
      "Epochs: 22/30 Training loss: 0.3515051007270813 Testing loss: 0.38072553277015686 Test Accuracy: 0.871715784072876\n",
      "Epochs: 23/30 Training loss: 0.3517947196960449 Testing loss: 0.37039172649383545 Test Accuracy: 0.8790804147720337\n",
      "Epochs: 24/30 Training loss: 0.3509598970413208 Testing loss: 0.3912326693534851 Test Accuracy: 0.8701233863830566\n",
      "Epochs: 25/30 Training loss: 0.3497900664806366 Testing loss: 0.37812212109565735 Test Accuracy: 0.8637539744377136\n",
      "Epochs: 26/30 Training loss: 0.34526094794273376 Testing loss: 0.38095736503601074 Test Accuracy: 0.8694267272949219\n",
      "Epochs: 27/30 Training loss: 0.35282209515571594 Testing loss: 0.38258877396583557 Test Accuracy: 0.8689291477203369\n",
      "Epochs: 28/30 Training loss: 0.3432615101337433 Testing loss: 0.38205286860466003 Test Accuracy: 0.8756966590881348\n",
      "Epochs: 29/30 Training loss: 0.3362669348716736 Testing loss: 0.3842274248600006 Test Accuracy: 0.8759952187538147\n",
      "Epochs: 30/30 Training loss: 0.3471831977367401 Testing loss: 0.397915244102478 Test Accuracy: 0.8678343892097473\n"
     ]
    }
   ],
   "source": [
    "epochs = 30\n",
    "train_losses, test_losses = [],[]\n",
    "\n",
    "for i in range(epochs):\n",
    "    running_loss = 0\n",
    "    for images, labels in trainloader:\n",
    "        model.train()\n",
    "        optimizer.zero_grad()\n",
    "\n",
    "        out = model(images)\n",
    "        test_loss = critertion(out,labels)\n",
    "        test_loss.backward()\n",
    "        optimizer.step()\n",
    "        \n",
    "        running_loss += test_loss\n",
    "        \n",
    "    else:\n",
    "        test_loss = 0\n",
    "        accuracy = 0\n",
    "        with torch.no_grad():\n",
    "            for images, labels in testloader:\n",
    "                model.eval()\n",
    "                test_out = model(images)\n",
    "                test_loss += critertion(test_out,labels)\n",
    "                \n",
    "                ps = torch.exp(test_out)\n",
    "                _, top_class = ps.topk(1,dim =1)\n",
    "                equals = top_class == labels.view(top_class.shape)\n",
    "                accuracy += torch.mean(equals.type(torch.FloatTensor))\n",
    "                \n",
    "        train_losses.append(running_loss/len(trainloader))\n",
    "        test_losses.append(test_loss/len(testloader))\n",
    "        \n",
    "        print(\"Epochs: {}/{}\".format(i+1,epochs),\n",
    "             \"Training loss: {}\".format(running_loss/len(trainloader)),\n",
    "              \"Testing loss: {}\".format(test_loss/len(testloader)),\n",
    "              \"Test Accuracy: {}\".format(accuracy/len(testloader))\n",
    "             )\n",
    "                \n",
    "        "
   ]
  },
  {
   "cell_type": "code",
   "execution_count": null,
   "metadata": {},
   "outputs": [],
   "source": []
  }
 ],
 "metadata": {
  "kernelspec": {
   "display_name": "Python 3",
   "language": "python",
   "name": "python3"
  },
  "language_info": {
   "codemirror_mode": {
    "name": "ipython",
    "version": 3
   },
   "file_extension": ".py",
   "mimetype": "text/x-python",
   "name": "python",
   "nbconvert_exporter": "python",
   "pygments_lexer": "ipython3",
   "version": "3.7.3"
  }
 },
 "nbformat": 4,
 "nbformat_minor": 2
}
